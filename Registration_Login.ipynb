{
  "nbformat": 4,
  "nbformat_minor": 0,
  "metadata": {
    "colab": {
      "provenance": [],
      "collapsed_sections": [],
      "authorship_tag": "ABX9TyPD37jnmO0lzsv+bWY9ejw2",
      "include_colab_link": true
    },
    "kernelspec": {
      "name": "python3",
      "display_name": "Python 3"
    },
    "language_info": {
      "name": "python"
    }
  },
  "cells": [
    {
      "cell_type": "markdown",
      "metadata": {
        "id": "view-in-github",
        "colab_type": "text"
      },
      "source": [
        "<a href=\"https://colab.research.google.com/github/KeerthuRagavaiya/KeerthuRagavaiya/blob/main/Registration_Login.ipynb\" target=\"_parent\"><img src=\"https://colab.research.google.com/assets/colab-badge.svg\" alt=\"Open In Colab\"/></a>"
      ]
    },
    {
      "cell_type": "code",
      "execution_count": null,
      "metadata": {
        "id": "90aaBZayTlQc",
        "colab": {
          "base_uri": "https://localhost:8080/"
        },
        "outputId": "31c30298-3810-4a88-c7c7-491995f247e6"
      },
      "outputs": [
        {
          "output_type": "stream",
          "name": "stdout",
          "text": [
            "> Enter reg to register\n",
            "> Enter login to login\n",
            "> Do you want to register or login: reg\n",
            "> Enter username: keer\n",
            "> Create Password··········\n",
            "> Confirm password: ··········\n",
            "> Account created!\n"
          ]
        }
      ],
      "source": [
        "import getpass\n",
        "\n",
        "def Register():\n",
        "    while True:\n",
        "        username = input('> Enter username: ')\n",
        "        password = getpass.getpass(prompt=\"> Create Password\")\n",
        "        \n",
        "        confirm_password = getpass.getpass(prompt='> Confirm password: ')\n",
        "        if password == confirm_password:\n",
        "            password_file = open('pass.txt', 'a')\n",
        "            password_file.write(f'Username: {username} --> Password: {confirm_password}' \"\\n\")\n",
        "            password_file.close()\n",
        "            print('> Account created!')\n",
        "            break\n",
        "    \n",
        "        elif  password != confirm_password:\n",
        "             print('> Error, passwords do not match')\n",
        "             continue\n",
        "\n",
        "def Login():\n",
        "    while True:\n",
        "        username = input('> Enter username: ')\n",
        "        password = getpass('> Enter password: ')\n",
        "\n",
        "        password_file = open('pass.txt', 'r').read()\n",
        "        if username and password in password_file:\n",
        "            print('> Welcome!')\n",
        "            break\n",
        "        else:\n",
        "            print('> Invalid username or password. Try again!')\n",
        "            continue\n",
        "        password_file.close()\n",
        "\n",
        "print('> Enter reg to register')\n",
        "print('> Enter login to login')\n",
        "\n",
        "\n",
        "reg_or_login = input('> Do you want to register or login: ')\n",
        "\n",
        "if reg_or_login == 'reg':\n",
        "    Register()\n",
        "\n",
        "elif reg_or_login == 'login':\n",
        "    Login()\n",
        "\n",
        "else:\n",
        "    print('Error, wrong input!')"
      ]
    },
    {
      "cell_type": "code",
      "source": [
        "import getpass\n",
        "import re\n",
        "def Register():\n",
        "    while True:\n",
        "        username = input('> Enter username: ')\n",
        "        pat = \"^[a-zA-Z0-9-_]+@[a-zA-Z0-9]+\\.[a-z]{1,3}$\"\n",
        "        if re.match(pat, username):\n",
        "            password = getpass.getpass(prompt=\"> Create Password\")\n",
        "            confirm_password = getpass.getpass(prompt='> Confirm password: ')\n",
        "            if password == confirm_password:\n",
        "                password_file = open('pass.txt', 'a')\n",
        "                password_file.write(f'Username: {username} --> Password: {confirm_password}' \"\\n\")\n",
        "                password_file.close()\n",
        "                print('> Account created!')\n",
        "                break\n",
        "            elif password != confirm_password:\n",
        "                print('> Error, passwords do not match')\n",
        "                continue\n",
        "            \n",
        "        else:\n",
        "            print(\"invalid username\")\n",
        "            \n",
        "            l, u, p, d = 0, 0, 0, 0\n",
        "        if (len(password) > 5 or len(password) <= 16):\n",
        "                for i in password:\n",
        "\n",
        "                    if (i.islower()):\n",
        "                        l += 1\n",
        "\n",
        "                    if (i.isupper()):\n",
        "                        u += 1\n",
        "\n",
        "                    if (i.isdigit()):\n",
        "                        d += 1\n",
        "\n",
        "                    if (i == '@' or i == '$' or i == '_'):\n",
        "                        p += 1\n",
        "        if (l >= 1 and u >= 1 and p >= 1 and d >= 1 and l + p + u + d == len(password)):\n",
        "                confirm_password = getpass.getpass(prompt='> Confirm password: ')\n",
        "        else:\n",
        "                print(\"Invalid Password\")\n",
        "       \n",
        "\n",
        "\n",
        "\n",
        "def Login():\n",
        "    while True:\n",
        "        username = input('> Enter username: ')\n",
        "        password = getpass.getpass(prompt='> Enter password: ')\n",
        "        password_file = open('pass.txt', 'r').read()\n",
        "        if username and password in password_file:\n",
        "            print('> Welcome!')\n",
        "            break\n",
        "        else:\n",
        "            print('> Invalid username or password. Try again!')\n",
        "            continue\n",
        "        password_file.close()\n",
        "\n",
        "\n",
        "print('> Enter reg to register')\n",
        "print('> Enter login to login')\n",
        "\n",
        "reg_or_login = input('> Do you want to register or login: ')\n",
        "\n",
        "if reg_or_login == 'reg':\n",
        "    Register()\n",
        "\n",
        "elif reg_or_login == 'login':\n",
        "    Login()\n",
        "\n",
        "else:\n",
        "    print('Error, wrong input!')"
      ],
      "metadata": {
        "colab": {
          "base_uri": "https://localhost:8080/"
        },
        "id": "aZfVil8CPHUd",
        "outputId": "029aed79-c056-4ca0-ac9b-6809a783ec85"
      },
      "execution_count": 2,
      "outputs": [
        {
          "output_type": "stream",
          "name": "stdout",
          "text": [
            "> Enter reg to register\n",
            "> Enter login to login\n",
            "> Do you want to register or login: login\n",
            "> Enter username: keer@gmail.com\n",
            "> Enter password: ··········\n",
            "> Welcome!\n"
          ]
        }
      ]
    }
  ]
}